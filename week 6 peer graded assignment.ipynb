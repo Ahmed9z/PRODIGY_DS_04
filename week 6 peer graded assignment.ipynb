{
 "cells": [
  {
   "cell_type": "markdown",
   "id": "99a29ca8",
   "metadata": {},
   "source": [
    "## Notebook title : week 6 peer graded assignment\n"
   ]
  },
  {
   "cell_type": "markdown",
   "id": "e5cbd44b",
   "metadata": {},
   "source": [
    "## This is the introduction of the notebook. It contains a basic presentation of the main point that will be discussed through this notebook.\n"
   ]
  },
  {
   "cell_type": "markdown",
   "id": "fd1fc34e",
   "metadata": {},
   "source": [
    "1. Python\n",
    "2. R\n",
    "3. SQL\n",
    "4. Julia\n",
    "5. Java\n",
    "6. Scala"
   ]
  },
  {
   "cell_type": "markdown",
   "id": "df87deab",
   "metadata": {},
   "source": [
    "# Some Python libraries:\n",
    "# NumPy: for numerical computations and array manipulation.\n",
    "# Pandas: for data analysis and manipulation.\n",
    "# Matplotlib: for data visualization.\n",
    "# Scikit-learn: for machine learning algorithms.\n",
    "# TensorFlow: for deep learning."
   ]
  },
  {
   "cell_type": "code",
   "execution_count": 8,
   "id": "9cc8d623",
   "metadata": {},
   "outputs": [
    {
     "name": "stdout",
     "output_type": "stream",
     "text": [
      "100\n",
      "12\n"
     ]
    }
   ],
   "source": [
    "print((1+10)*10-10)\n",
    "print((5*20)-100+12)"
   ]
  },
  {
   "cell_type": "markdown",
   "id": "5f01f84c",
   "metadata": {},
   "source": [
    "# Some data science tools:\n",
    "# Jupyter Notebook\n",
    "# Google Colab\n",
    "# Kaggle Notebooks"
   ]
  },
  {
   "cell_type": "code",
   "execution_count": 10,
   "id": "9731f69c",
   "metadata": {},
   "outputs": [
    {
     "data": {
      "text/plain": [
       "(50, 15)"
      ]
     },
     "execution_count": 10,
     "metadata": {},
     "output_type": "execute_result"
    }
   ],
   "source": [
    "num1 = 5\n",
    "num2 = 10\n",
    "product = num1 * num2\n",
    "total = num1 + num2\n",
    "product , total\n"
   ]
  },
  {
   "cell_type": "code",
   "execution_count": 12,
   "id": "15f93f31",
   "metadata": {},
   "outputs": [
    {
     "data": {
      "text/plain": [
       "(0, 2)"
      ]
     },
     "execution_count": 12,
     "metadata": {},
     "output_type": "execute_result"
    }
   ],
   "source": [
    "minutes = 120\n",
    "hours = minutes // 60\n",
    "remaining_minutes = minutes % 60\n",
    "remaining_minutes,hours"
   ]
  },
  {
   "cell_type": "markdown",
   "id": "b0bb1533",
   "metadata": {},
   "source": [
    "# Obejectives:\n",
    "# 1- Cleaning data\n",
    "# 2- Creating plots\n",
    "# 3- Getting correlation between variables"
   ]
  },
  {
   "cell_type": "markdown",
   "id": "baa4f56b",
   "metadata": {},
   "source": [
    "# Author name : A.M"
   ]
  },
  {
   "cell_type": "code",
   "execution_count": null,
   "id": "e24fbd17",
   "metadata": {},
   "outputs": [],
   "source": []
  }
 ],
 "metadata": {
  "kernelspec": {
   "display_name": "Python 3 (ipykernel)",
   "language": "python",
   "name": "python3"
  },
  "language_info": {
   "codemirror_mode": {
    "name": "ipython",
    "version": 3
   },
   "file_extension": ".py",
   "mimetype": "text/x-python",
   "name": "python",
   "nbconvert_exporter": "python",
   "pygments_lexer": "ipython3",
   "version": "3.11.5"
  }
 },
 "nbformat": 4,
 "nbformat_minor": 5
}
